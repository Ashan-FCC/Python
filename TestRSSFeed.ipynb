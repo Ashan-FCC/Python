{
 "cells": [
  {
   "cell_type": "code",
   "execution_count": 15,
   "metadata": {
    "collapsed": false
   },
   "outputs": [],
   "source": [
    "from urllib.request import urlopen"
   ]
  },
  {
   "cell_type": "code",
   "execution_count": 16,
   "metadata": {
    "collapsed": false
   },
   "outputs": [],
   "source": [
    "rssFeed = urlopen(\"http://static.cricinfo.com/rss/livescores.xml\");"
   ]
  },
  {
   "cell_type": "code",
   "execution_count": 17,
   "metadata": {
    "collapsed": false
   },
   "outputs": [],
   "source": [
    "rssData = rssFeed.read();\n",
    "rssFeed.close();"
   ]
  },
  {
   "cell_type": "code",
   "execution_count": 18,
   "metadata": {
    "collapsed": false
   },
   "outputs": [
    {
     "name": "stdout",
     "output_type": "stream",
     "text": [
      "b'<?xml version=\"1.0\" encoding=\"UTF-8\" ?>\\n<rss version=\"2.0\">\\n<channel>\\n<title>Cricinfo Live Scores</title>\\n<ttl>2</ttl>\\n<link>http://www.cricinfo.com</link>\\n<description>Latest scores from Cricinfo</description>\\n<copyright>(c)Cricinfo</copyright>\\n<language>en-gb</language>\\n<pubDate>Wed, 31 Aug 2016 07:20:02 +0000</pubDate>\\n<item>\\n<title>Zimbabwe Development XI 349/10 &amp;  177/10  v Sri Lanka Development Emerging Team 38/1 &amp;  346/10 *</title>\\n<link>http://www.cricinfo.com/ci/engine/match/1051101.html?CMP=OTC-RSS </link>\\n<description>Zimbabwe Development XI 349/10 &amp;  177/10  v Sri Lanka Development Emerging Team 38/1 &amp;  346/10 *</description>\\n <guid>http://www.cricinfo.com/ci/engine/match/1051101.html</guid> </item>\\n<item>\\n<title>India Blue 200/5 * v India Red</title>\\n<link>http://www.cricinfo.com/ci/engine/match/1044941.html?CMP=OTC-RSS </link>\\n<description>India Blue 200/5 * v India Red</description>\\n <guid>http://www.cricinfo.com/ci/engine/match/1044941.html</guid> </item>\\n<item>\\n<title>Kabul Province 335/6  v Nangarhar Province 317/9 &amp;  25/1 *</title>\\n<link>http://www.cricinfo.com/ci/engine/match/1049307.html?CMP=OTC-RSS </link>\\n<description>Kabul Province 335/6  v Nangarhar Province 317/9 &amp;  25/1 *</description>\\n <guid>http://www.cricinfo.com/ci/engine/match/1049307.html</guid> </item>\\n<item>\\n<title>Kandahar Province 241/9  v Khost Province 177/5 *</title>\\n<link>http://www.cricinfo.com/ci/engine/match/1049309.html?CMP=OTC-RSS </link>\\n<description>Kandahar Province 241/9  v Khost Province 177/5 *</description>\\n <guid>http://www.cricinfo.com/ci/engine/match/1049309.html</guid> </item>\\n<item>\\n<title>Ireland 316/10  v Hong Kong 2 *</title>\\n<link>http://www.cricinfo.com/ci/engine/match/1004249.html?CMP=OTC-RSS </link>\\n<description>Ireland 316/10  v Hong Kong 2 *</description>\\n <guid>http://www.cricinfo.com/ci/engine/match/1004249.html</guid> </item>\\n<item>\\n<title>National Performance Squad 287/7  v South Africa A 288/5 *</title>\\n<link>http://www.cricinfo.com/ci/engine/match/1012769.html?CMP=OTC-RSS </link>\\n<description>National Performance Squad 287/7  v South Africa A 288/5 *</description>\\n <guid>http://www.cricinfo.com/ci/engine/match/1012769.html</guid> </item>\\n<item>\\n<title>Sarawak 49/10  v Kuala Lumpur 50/2 *</title>\\n<link>http://www.cricinfo.com/ci/engine/match/1034107.html?CMP=OTC-RSS </link>\\n<description>Sarawak 49/10  v Kuala Lumpur 50/2 *</description>\\n <guid>http://www.cricinfo.com/ci/engine/match/1034107.html</guid> </item>\\n<item>\\n<title>Sri Lanka v Australia</title>\\n<link>http://www.cricinfo.com/ci/engine/match/995463.html?CMP=OTC-RSS </link>\\n<description>Sri Lanka v Australia</description>\\n <guid>http://www.cricinfo.com/ci/engine/match/995463.html</guid> </item>\\n<item>\\n<title>Derbyshire v Gloucestershire</title>\\n<link>http://www.cricinfo.com/ci/engine/match/947063.html?CMP=OTC-RSS </link>\\n<description>Derbyshire v Gloucestershire</description>\\n <guid>http://www.cricinfo.com/ci/engine/match/947063.html</guid> </item>\\n<item>\\n<title>Durham v Nottinghamshire</title>\\n<link>http://www.cricinfo.com/ci/engine/match/946919.html?CMP=OTC-RSS </link>\\n<description>Durham v Nottinghamshire</description>\\n <guid>http://www.cricinfo.com/ci/engine/match/946919.html</guid> </item>\\n<item>\\n<title>Essex v Worcestershire</title>\\n<link>http://www.cricinfo.com/ci/engine/match/947067.html?CMP=OTC-RSS </link>\\n<description>Essex v Worcestershire</description>\\n <guid>http://www.cricinfo.com/ci/engine/match/947067.html</guid> </item>\\n<item>\\n<title>Hampshire v Yorkshire</title>\\n<link>http://www.cricinfo.com/ci/engine/match/946923.html?CMP=OTC-RSS </link>\\n<description>Hampshire v Yorkshire</description>\\n <guid>http://www.cricinfo.com/ci/engine/match/946923.html</guid> </item>\\n<item>\\n<title>Lancashire v Somerset</title>\\n<link>http://www.cricinfo.com/ci/engine/match/946921.html?CMP=OTC-RSS </link>\\n<description>Lancashire v Somerset</description>\\n <guid>http://www.cricinfo.com/ci/engine/match/946921.html</guid> </item>\\n<item>\\n<title>Northamptonshire v Glamorgan</title>\\n<link>http://www.cricinfo.com/ci/engine/match/947061.html?CMP=OTC-RSS </link>\\n<description>Northamptonshire v Glamorgan</description>\\n <guid>http://www.cricinfo.com/ci/engine/match/947061.html</guid> </item>\\n<item>\\n<title>Sussex v Kent</title>\\n<link>http://www.cricinfo.com/ci/engine/match/947065.html?CMP=OTC-RSS </link>\\n<description>Sussex v Kent</description>\\n <guid>http://www.cricinfo.com/ci/engine/match/947065.html</guid> </item>\\n<item>\\n<title>Warwickshire v Middlesex</title>\\n<link>http://www.cricinfo.com/ci/engine/match/946917.html?CMP=OTC-RSS </link>\\n<description>Warwickshire v Middlesex</description>\\n <guid>http://www.cricinfo.com/ci/engine/match/946917.html</guid> </item>\\n<item>\\n<title>Karachi Whites v Lahore Whites</title>\\n<link>http://www.cricinfo.com/ci/engine/match/1047773.html?CMP=OTC-RSS </link>\\n<description>Karachi Whites v Lahore Whites</description>\\n <guid>http://www.cricinfo.com/ci/engine/match/1047773.html</guid> </item>\\n<item>\\n<title>Lyca Kovai Kings v Albert TUTI Patriots</title>\\n<link>http://www.cricinfo.com/ci/engine/match/1047357.html?CMP=OTC-RSS </link>\\n<description>Lyca Kovai Kings v Albert TUTI Patriots</description>\\n <guid>http://www.cricinfo.com/ci/engine/match/1047357.html</guid> </item>\\n<item>\\n<title>Karachi Blues v Lahore Blues</title>\\n<link>http://www.cricinfo.com/ci/engine/match/1047775.html?CMP=OTC-RSS </link>\\n<description>Karachi Blues v Lahore Blues</description>\\n <guid>http://www.cricinfo.com/ci/engine/match/1047775.html</guid> </item>\\n</channel>\\n</rss>\\n'\n"
     ]
    }
   ],
   "source": [
    "print(rssData);"
   ]
  },
  {
   "cell_type": "code",
   "execution_count": null,
   "metadata": {
    "collapsed": true
   },
   "outputs": [],
   "source": []
  }
 ],
 "metadata": {
  "kernelspec": {
   "display_name": "Python3.5.2",
   "language": "python",
   "name": "python3.5.2"
  },
  "language_info": {
   "codemirror_mode": {
    "name": "ipython",
    "version": 3
   },
   "file_extension": ".py",
   "mimetype": "text/x-python",
   "name": "python",
   "nbconvert_exporter": "python",
   "pygments_lexer": "ipython3",
   "version": "3.5.2"
  }
 },
 "nbformat": 4,
 "nbformat_minor": 1
}
