{
 "cells": [
  {
   "cell_type": "code",
   "execution_count": 1,
   "metadata": {
    "collapsed": true
   },
   "outputs": [],
   "source": [
    "# A list of numbers\n",
    "height_weight_age = [72,\n",
    "                    80,\n",
    "                    25] #3 dimensional vector\n",
    "#Python lists aren't vectors. Hence provide no facilities\n",
    "#for vector arithmetic."
   ]
  },
  {
   "cell_type": "code",
   "execution_count": 3,
   "metadata": {
    "collapsed": false
   },
   "outputs": [],
   "source": [
    "#Vectors\n",
    "\n",
    "#Define a method to add vectors\n",
    "def vector_add(v,w):\n",
    "    return [v_i + w_i for v_i, w_i in zip(v,w)];\n",
    "\n",
    "#Def a method to substract vectors\n",
    "def vector_subtract(v, w):\n",
    "    return [v_i - w_i for v_i, w_i in zip(v,w)];\n",
    "\n",
    "#Def method to get vector sum\n",
    "def vector_sum(vectors):\n",
    "    return reduce(vector_add, vectors);\n",
    "    #reduce(lambda x, y: x+y, [1, 2, 3, 4, 5]) \n",
    "    #calculates ((((1+2)+3)+4)+5)\n",
    "    \n",
    "#scalar multiple of a vector\n",
    "def scalar_multiple(c, v):\n",
    "    return [c * v_i for v_i in v];\n",
    "\n",
    "#Calculate the componentwise mean of a vector\n",
    "def vector_mean(vector):\n",
    "    return vector_sum(vector) / len(vector) ;\n",
    "\n",
    "#Calc dot product\n",
    "def dot(v, w):\n",
    "    return sum(v_i * w_i for v_i,w_i in zip(v,w));\n",
    "#The dot product of two vectors is the sum of\n",
    "#their componentwise products\n",
    "\n",
    "#sum of squares\n",
    "def sum_of_squares(v):\n",
    "    return dot(v,v);\n",
    "\n",
    "import math;\n",
    "\n",
    "def magnitude(v):\n",
    "    return math.sqrt(sum_of_squares(v));\n",
    "\n",
    "def squared_distance(v,w):\n",
    "    return sum_of_squares(vector_subtract(v,w));\n",
    "\n",
    "def distance(v, w):\n",
    "    return magnitude(vector_subtract(v,w));\n",
    "\n",
    "    \n"
   ]
  },
  {
   "cell_type": "code",
   "execution_count": null,
   "metadata": {
    "collapsed": true
   },
   "outputs": [],
   "source": []
  }
 ],
 "metadata": {
  "anaconda-cloud": {},
  "kernelspec": {
   "display_name": "Python [conda env:DataScience]",
   "language": "python",
   "name": "conda-env-DataScience-py"
  },
  "language_info": {
   "codemirror_mode": {
    "name": "ipython",
    "version": 3
   },
   "file_extension": ".py",
   "mimetype": "text/x-python",
   "name": "python",
   "nbconvert_exporter": "python",
   "pygments_lexer": "ipython3",
   "version": "3.4.5"
  }
 },
 "nbformat": 4,
 "nbformat_minor": 1
}
