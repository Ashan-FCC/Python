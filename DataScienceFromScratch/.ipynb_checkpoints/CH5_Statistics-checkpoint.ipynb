{
 "cells": [
  {
   "cell_type": "code",
   "execution_count": 12,
   "metadata": {
    "collapsed": false
   },
   "outputs": [
    {
     "data": {
      "image/png": "[encoded data removed]",
      "text/plain": [
       "<matplotlib.figure.Figure at 0x7fe0cdd8b3c8>"
      ]
     },
     "metadata": {},
     "output_type": "display_data"
    }
   ],
   "source": [
    "from collections import Counter\n",
    "from matplotlib import pyplot as plt;\n",
    "from linear_algebra import sum_of_squares, dot;\n",
    "import math;\n",
    "\n",
    "num_friends = [100,49,41,40,25,21,21,19,19,18,18,16,15,15,15,15,14,14,13,13,13,13,12,12,11,10,10,10,10,10,10,10,10,10,10,10,10,10,10,10,9,9,9,9,9,9,9,9,9,9,9,9,9,9,9,9,9,9,8,8,8,8,8,8,8,8,8,8,8,8,8,7,7,7,7,7,7,7,7,7,7,7,7,7,7,7,6,6,6,6,6,6,6,6,6,6,6,6,6,6,6,6,6,6,6,6,6,6,5,5,5,5,5,5,5,5,5,5,5,5,5,5,5,5,5,4,4,4,4,4,4,4,4,4,4,4,4,4,4,4,4,4,4,4,4,3,3,3,3,3,3,3,3,3,3,3,3,3,3,3,3,3,3,3,3,2,2,2,2,2,2,2,2,2,2,2,2,2,2,2,2,2,1,1,1,1,1,1,1,1,1,1,1,1,1,1,1,1,1,1,1,1,1,1]\n",
    "friends_counts = Counter(num_friends);\n",
    "xs = range(101);\n",
    "ys = [friends_counts[x] for x in xs]\n",
    "\n",
    "plt.bar(xs,ys)\n",
    "plt.axis([0,101,0,25])\n",
    "plt.xlabel('No of Friends')\n",
    "plt.ylabel('No of People')\n",
    "plt.show()"
   ]
  },
  {
   "cell_type": "code",
   "execution_count": 2,
   "metadata": {
    "collapsed": true
   },
   "outputs": [],
   "source": [
    "num_points = len(num_friends)\n",
    "largest_value  = max(num_friends)\n",
    "smallest_value = min(num_friends)\n",
    "\n",
    "sorted_values = sorted(num_friends)\n",
    "smallest_value = sorted_values[0]\n",
    "second_smallest_value = sorted_values[1]\n",
    "\n",
    "second_largest_value = sorted_values[-2]"
   ]
  },
  {
   "cell_type": "code",
   "execution_count": 3,
   "metadata": {
    "collapsed": false
   },
   "outputs": [],
   "source": [
    "#Central Tendencies\n",
    "def mean(x):\n",
    "    return sum(x)/len(x);\n",
    "\n",
    "def median(v):\n",
    "    n = len(v);\n",
    "    sorted_v = sorted(v);\n",
    "    midpoint = n//2\n",
    "    \n",
    "    if n % 2 == 1:\n",
    "        return sorted_v[midpoint]\n",
    "    else:\n",
    "        lo = midpoint -1\n",
    "        hi = midpoint +1\n",
    "        return (sorted_v[lo] + sorted_v[hi])/2\n",
    "\n",
    "def quantile(x , p):\n",
    "    #returns the pth percentile values in x\n",
    "    p_index = int(p * len(x))\n",
    "    return sorted(x)[p_index]\n",
    "\n",
    "def mode(x):\n",
    "    counts = Counter(x)\n",
    "    max_count = max(counts.values())\n",
    "    return [x_i for x_i, count in counts.items()\n",
    "               if count == max_count]"
   ]
  },
  {
   "cell_type": "code",
   "execution_count": 4,
   "metadata": {
    "collapsed": false
   },
   "outputs": [
    {
     "name": "stdout",
     "output_type": "stream",
     "text": [
      "7.333333333333333\n",
      "6.0\n",
      "1\n",
      "3\n",
      "9\n",
      "13\n",
      "[1, 6]\n"
     ]
    }
   ],
   "source": [
    "print(mean(num_friends))\n",
    "\n",
    "print(median(num_friends))\n",
    "\n",
    "print(quantile(num_friends,0.10))\n",
    "print(quantile(num_friends,0.25))\n",
    "print(quantile(num_friends,0.75))\n",
    "print(quantile(num_friends,0.90))\n",
    "\n",
    "print(mode(num_friends))"
   ]
  },
  {
   "cell_type": "code",
   "execution_count": 7,
   "metadata": {
    "collapsed": true
   },
   "outputs": [],
   "source": [
    "#Dispersion\n",
    "#Refers to how spread out the data is.\n",
    "#Values near zero mean not spread out. Higher values mean more spread out\n",
    "\n",
    "#data_range is the difference between highest & lowest\n",
    "def data_range(x):\n",
    "    return max(x) - min(x)\n",
    "\n",
    "def de_mean(x):\n",
    "    #Something similar to mean normalization in ML\n",
    "    xMean = mean(x)\n",
    "    return [x_i - xMean for x_i in x]\n",
    "\n",
    "def variance(x):\n",
    "    #Assume x has atleast 2 elements\n",
    "    n = len(x);\n",
    "    deviation = de_mean(x);\n",
    "    return sum_of_squares(deviation) / (n -1)\n",
    "\n",
    "def standard_deviation(x):\n",
    "    return math.sqrt(variance(x))\n",
    "\n",
    "def interquartile_range(x):\n",
    "    return quantile(x,0.75) - quantile(x, 0.25);\n"
   ]
  },
  {
   "cell_type": "code",
   "execution_count": 6,
   "metadata": {
    "collapsed": false
   },
   "outputs": [
    {
     "name": "stdout",
     "output_type": "stream",
     "text": [
      "99\n",
      "[92.66666666666667, 41.666666666666664, 33.666666666666664, 32.666666666666664, 17.666666666666668, 13.666666666666668, 13.666666666666668, 11.666666666666668, 11.666666666666668, 10.666666666666668, 10.666666666666668, 8.666666666666668, 7.666666666666667, 7.666666666666667, 7.666666666666667, 7.666666666666667, 6.666666666666667, 6.666666666666667, 5.666666666666667, 5.666666666666667, 5.666666666666667, 5.666666666666667, 4.666666666666667, 4.666666666666667, 3.666666666666667, 2.666666666666667, 2.666666666666667, 2.666666666666667, 2.666666666666667, 2.666666666666667, 2.666666666666667, 2.666666666666667, 2.666666666666667, 2.666666666666667, 2.666666666666667, 2.666666666666667, 2.666666666666667, 2.666666666666667, 2.666666666666667, 2.666666666666667, 1.666666666666667, 1.666666666666667, 1.666666666666667, 1.666666666666667, 1.666666666666667, 1.666666666666667, 1.666666666666667, 1.666666666666667, 1.666666666666667, 1.666666666666667, 1.666666666666667, 1.666666666666667, 1.666666666666667, 1.666666666666667, 1.666666666666667, 1.666666666666667, 1.666666666666667, 1.666666666666667, 0.666666666666667, 0.666666666666667, 0.666666666666667, 0.666666666666667, 0.666666666666667, 0.666666666666667, 0.666666666666667, 0.666666666666667, 0.666666666666667, 0.666666666666667, 0.666666666666667, 0.666666666666667, 0.666666666666667, -0.33333333333333304, -0.33333333333333304, -0.33333333333333304, -0.33333333333333304, -0.33333333333333304, -0.33333333333333304, -0.33333333333333304, -0.33333333333333304, -0.33333333333333304, -0.33333333333333304, -0.33333333333333304, -0.33333333333333304, -0.33333333333333304, -0.33333333333333304, -0.33333333333333304, -1.333333333333333, -1.333333333333333, -1.333333333333333, -1.333333333333333, -1.333333333333333, -1.333333333333333, -1.333333333333333, -1.333333333333333, -1.333333333333333, -1.333333333333333, -1.333333333333333, -1.333333333333333, -1.333333333333333, -1.333333333333333, -1.333333333333333, -1.333333333333333, -1.333333333333333, -1.333333333333333, -1.333333333333333, -1.333333333333333, -1.333333333333333, -1.333333333333333, -2.333333333333333, -2.333333333333333, -2.333333333333333, -2.333333333333333, -2.333333333333333, -2.333333333333333, -2.333333333333333, -2.333333333333333, -2.333333333333333, -2.333333333333333, -2.333333333333333, -2.333333333333333, -2.333333333333333, -2.333333333333333, -2.333333333333333, -2.333333333333333, -2.333333333333333, -3.333333333333333, -3.333333333333333, -3.333333333333333, -3.333333333333333, -3.333333333333333, -3.333333333333333, -3.333333333333333, -3.333333333333333, -3.333333333333333, -3.333333333333333, -3.333333333333333, -3.333333333333333, -3.333333333333333, -3.333333333333333, -3.333333333333333, -3.333333333333333, -3.333333333333333, -3.333333333333333, -3.333333333333333, -3.333333333333333, -4.333333333333333, -4.333333333333333, -4.333333333333333, -4.333333333333333, -4.333333333333333, -4.333333333333333, -4.333333333333333, -4.333333333333333, -4.333333333333333, -4.333333333333333, -4.333333333333333, -4.333333333333333, -4.333333333333333, -4.333333333333333, -4.333333333333333, -4.333333333333333, -4.333333333333333, -4.333333333333333, -4.333333333333333, -4.333333333333333, -5.333333333333333, -5.333333333333333, -5.333333333333333, -5.333333333333333, -5.333333333333333, -5.333333333333333, -5.333333333333333, -5.333333333333333, -5.333333333333333, -5.333333333333333, -5.333333333333333, -5.333333333333333, -5.333333333333333, -5.333333333333333, -5.333333333333333, -5.333333333333333, -5.333333333333333, -6.333333333333333, -6.333333333333333, -6.333333333333333, -6.333333333333333, -6.333333333333333, -6.333333333333333, -6.333333333333333, -6.333333333333333, -6.333333333333333, -6.333333333333333, -6.333333333333333, -6.333333333333333, -6.333333333333333, -6.333333333333333, -6.333333333333333, -6.333333333333333, -6.333333333333333, -6.333333333333333, -6.333333333333333, -6.333333333333333, -6.333333333333333, -6.333333333333333]\n",
      "81.54351395730716\n",
      "9.03014473623248\n"
     ]
    }
   ],
   "source": [
    "print(data_range(num_friends));\n",
    "\n",
    "print(de_mean(num_friends));\n",
    "\n",
    "print(variance(num_friends));\n",
    "\n",
    "print(standard_deviation(num_friends))\n"
   ]
  },
  {
   "cell_type": "code",
   "execution_count": 13,
   "metadata": {
    "collapsed": false
   },
   "outputs": [
    {
     "name": "stdout",
     "output_type": "stream",
     "text": [
      "0.24736957366478218\n"
     ]
    }
   ],
   "source": [
    "#Correlation\n",
    "daily_minutes = [1,68.77,51.25,52.08,38.36,44.54,57.13,51.4,41.42,31.22,34.76,54.01,38.79,47.59,49.1,27.66,41.03,36.73,48.65,28.12,46.62,35.57,32.98,35,26.07,23.77,39.73,40.57,31.65,31.21,36.32,20.45,21.93,26.02,27.34,23.49,46.94,30.5,33.8,24.23,21.4,27.94,32.24,40.57,25.07,19.42,22.39,18.42,46.96,23.72,26.41,26.97,36.76,40.32,35.02,29.47,30.2,31,38.11,38.18,36.31,21.03,30.86,36.07,28.66,29.08,37.28,15.28,24.17,22.31,30.17,25.53,19.85,35.37,44.6,17.23,13.47,26.33,35.02,32.09,24.81,19.33,28.77,24.26,31.98,25.73,24.86,16.28,34.51,15.23,39.72,40.8,26.06,35.76,34.76,16.13,44.04,18.03,19.65,32.62,35.59,39.43,14.18,35.24,40.13,41.82,35.45,36.07,43.67,24.61,20.9,21.9,18.79,27.61,27.21,26.61,29.77,20.59,27.53,13.82,33.2,25,33.1,36.65,18.63,14.87,22.2,36.81,25.53,24.62,26.25,18.21,28.08,19.42,29.79,32.8,35.99,28.32,27.79,35.88,29.06,36.28,14.1,36.63,37.49,26.9,18.58,38.48,24.48,18.95,33.55,14.24,29.04,32.51,25.63,22.22,19,32.73,15.16,13.9,27.2,32.01,29.27,33,13.74,20.42,27.32,18.23,35.35,28.48,9.08,24.62,20.12,35.26,19.92,31.02,16.49,12.16,30.7,31.22,34.65,13.13,27.51,33.2,31.57,14.1,33.42,17.44,10.12,24.42,9.82,23.39,30.93,15.03,21.67,31.09,33.29,22.61,26.89,23.48,8.38,27.81,32.35,23.84]\n",
    "\n",
    "def covariance(x,y):\n",
    "    n = len(x);\n",
    "    return dot(de_mean(x) , de_mean(y))/(n-1)\n",
    "\n",
    "def correlation(x,y):\n",
    "    #Correlation is unitless and lies between -1 and 1\n",
    "    #1 indicates a perfect correlation and -1 is a negative correlation\n",
    "    stdev_x = standard_deviation(x)\n",
    "    stdev_y = standard_deviation(y)\n",
    "    if stdev_x > 0 and stdev_y > 0:\n",
    "        return covariance(x, y) / stdev_x / stdev_y\n",
    "    else:\n",
    "        return 0;\n",
    "\n",
    "print(correlation(num_friends, daily_minutes))"
   ]
  },
  {
   "cell_type": "code",
   "execution_count": null,
   "metadata": {
    "collapsed": true
   },
   "outputs": [],
   "source": [
    "plt.scatter(num_friends,daily_minutes);\n",
    "plt.title(\"Daily Minutes vs Number of Friends\");\n",
    "plt.xlabel(\"# of Freinds\");\n",
    "plt.ylabel(\"Daily minutes spent on site\");\n",
    "plt.show();"
   ]
  }
 ],
 "metadata": {
  "anaconda-cloud": {},
  "kernelspec": {
   "display_name": "Python [conda env:DataScience]",
   "language": "python",
   "name": "conda-env-DataScience-py"
  },
  "language_info": {
   "codemirror_mode": {
    "name": "ipython",
    "version": 3
   },
   "file_extension": ".py",
   "mimetype": "text/x-python",
   "name": "python",
   "nbconvert_exporter": "python",
   "pygments_lexer": "ipython3",
   "version": "3.4.5"
  }
 },
 "nbformat": 4,
 "nbformat_minor": 1
}
