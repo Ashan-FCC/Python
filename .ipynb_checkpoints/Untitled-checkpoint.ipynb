{
 "cells": [
  {
   "cell_type": "code",
   "execution_count": 19,
   "metadata": {
    "collapsed": false
   },
   "outputs": [],
   "source": [
    "def get_difference(x, Lu):\n",
    "    sumDiff = 0;\n",
    "    diff = [ abs(x- i) for i in Lu];\n",
    "    return sum(diff)\n",
    "def get_diff_2(Li, Lu):\n",
    "    total = 0;\n",
    "    total = [get_difference(i,Lu) for i in Li]\n",
    "    return sum(total)"
   ]
  },
  {
   "cell_type": "code",
   "execution_count": 21,
   "metadata": {
    "collapsed": false
   },
   "outputs": [],
   "source": [
    "from collections import Counter"
   ]
  },
  {
   "cell_type": "code",
   "execution_count": 36,
   "metadata": {
    "collapsed": false
   },
   "outputs": [
    {
     "name": "stdout",
     "output_type": "stream",
     "text": [
      "5 2\n"
     ]
    }
   ],
   "source": [
    "firstLine = input();\n",
    "n_k = firstLine.split(' ');\n",
    "n = n_k[0];\n",
    "k = n_k[1];\n",
    "\n"
   ]
  },
  {
   "cell_type": "code",
   "execution_count": 37,
   "metadata": {
    "collapsed": false
   },
   "outputs": [
    {
     "name": "stdout",
     "output_type": "stream",
     "text": [
      "12 32 43 12 1\n"
     ]
    }
   ],
   "source": [
    "secondLine = input();\n",
    "An = secondLine.split(' ');\n",
    "An = [int(x) for x in An]"
   ]
  },
  {
   "cell_type": "code",
   "execution_count": 42,
   "metadata": {
    "collapsed": false
   },
   "outputs": [
    {
     "name": "stdout",
     "output_type": "stream",
     "text": [
      "[62, 82, 115, 62, 95]\n"
     ]
    }
   ],
   "source": [
    "An_sorted = sorted(An);\n",
    "total = [get_difference(i, An_sorted) for i in An_sorted]\n",
    "print(total)\n",
    "total_sorted\n",
    "\n",
    "#n_counts = Counter(An_sorted);\n",
    "#print(An_counts)\n",
    "#An_counts.counts()"
   ]
  },
  {
   "cell_type": "code",
   "execution_count": null,
   "metadata": {
    "collapsed": true
   },
   "outputs": [],
   "source": []
  },
  {
   "cell_type": "code",
   "execution_count": 25,
   "metadata": {
    "collapsed": false
   },
   "outputs": [
    {
     "name": "stdout",
     "output_type": "stream",
     "text": [
      "['This', 'is', 'me']\n"
     ]
    }
   ],
   "source": [
    "for i,x in enumerate(An_sorted):\n",
    "    print(i)\n",
    "    print(x)"
   ]
  },
  {
   "cell_type": "code",
   "execution_count": null,
   "metadata": {
    "collapsed": true
   },
   "outputs": [],
   "source": []
  }
 ],
 "metadata": {
  "anaconda-cloud": {},
  "kernelspec": {
   "display_name": "IPython3.5",
   "language": "python",
   "name": "ipython3.5"
  },
  "language_info": {
   "codemirror_mode": {
    "name": "ipython",
    "version": 3
   },
   "file_extension": ".py",
   "mimetype": "text/x-python",
   "name": "python",
   "nbconvert_exporter": "python",
   "pygments_lexer": "ipython3",
   "version": "3.5.2"
  }
 },
 "nbformat": 4,
 "nbformat_minor": 1
}
