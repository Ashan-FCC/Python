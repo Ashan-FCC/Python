{
 "cells": [
  {
   "cell_type": "code",
   "execution_count": 1,
   "metadata": {
    "collapsed": true
   },
   "outputs": [],
   "source": [
    "import sys\n",
    "import functools"
   ]
  },
  {
   "cell_type": "code",
   "execution_count": 2,
   "metadata": {
    "collapsed": false
   },
   "outputs": [
    {
     "name": "stdout",
     "output_type": "stream",
     "text": [
      "5 3 4\n",
      "3 2 1 1 1\n",
      "4 3 2\n",
      "1 4 1 1\n"
     ]
    }
   ],
   "source": [
    "n1,n2,n3 = input().strip().split(' ')\n",
    "n1,n2,n3 = [int(n1),int(n2),int(n3)]\n",
    "h1 = [int(h1_temp) for h1_temp in input().strip().split(' ')]\n",
    "h2 = [int(h2_temp) for h2_temp in input().strip().split(' ')]\n",
    "h3 = [int(h3_temp) for h3_temp in input().strip().split(' ')]\n"
   ]
  },
  {
   "cell_type": "code",
   "execution_count": 27,
   "metadata": {
    "collapsed": true
   },
   "outputs": [],
   "source": [
    "h1.reverse();\n",
    "h2.reverse();\n",
    "h3.reverse();\n",
    "stacks = [h1 , h2, h3];\n",
    "def sum_until_last(lst):\n",
    "    if len(lst)==0:\n",
    "        return lst;\n",
    "    summedArray = [];\n",
    "    sum = 0\n",
    "    for i,v in enumerate(lst):\n",
    "        if i==0:\n",
    "            sum += v;\n",
    "            summedArray.append(v);\n",
    "            continue;\n",
    "        sum +=v;\n",
    "        summedArray.append(sum);\n",
    "    return summedArray;\n"
   ]
  },
  {
   "cell_type": "code",
   "execution_count": 28,
   "metadata": {
    "collapsed": true
   },
   "outputs": [],
   "source": [
    "h1 = sum_until_last(h1)\n",
    "h2 = sum_until_last(h2);\n",
    "h3 = sum_until_last(h3);"
   ]
  },
  {
   "cell_type": "code",
   "execution_count": 29,
   "metadata": {
    "collapsed": false
   },
   "outputs": [],
   "source": [
    "def smallest_array(lst):\n",
    "    lenArr = [lst[0], lst[1], lst[2]];\n",
    "    smallest = min(lenArr);\n",
    "    return lenArr.index(smallest);"
   ]
  },
  {
   "cell_type": "code",
   "execution_count": 30,
   "metadata": {
    "collapsed": false
   },
   "outputs": [
    {
     "name": "stdout",
     "output_type": "stream",
     "text": [
      "[[74, 66, 53, 37, 19], [51, 44, 31, 16]]\n",
      "1\n"
     ]
    }
   ],
   "source": [
    "smallest = smallest_array(stacks)\n",
    "\n",
    "smallestArry = stacks.pop(smallest);\n",
    "print(stacks)\n",
    "\n",
    "\n"
   ]
  },
  {
   "cell_type": "code",
   "execution_count": null,
   "metadata": {
    "collapsed": true
   },
   "outputs": [],
   "source": []
  }
 ],
 "metadata": {
  "kernelspec": {
   "display_name": "Python3.5.2",
   "language": "python",
   "name": "python3.5.2"
  },
  "language_info": {
   "codemirror_mode": {
    "name": "ipython",
    "version": 3
   },
   "file_extension": ".py",
   "mimetype": "text/x-python",
   "name": "python",
   "nbconvert_exporter": "python",
   "pygments_lexer": "ipython3",
   "version": "3.5.2"
  }
 },
 "nbformat": 4,
 "nbformat_minor": 1
}
